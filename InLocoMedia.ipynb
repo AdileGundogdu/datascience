{
 "cells": [
  {
   "cell_type": "code",
   "execution_count": 1,
   "metadata": {
    "collapsed": true
   },
   "outputs": [],
   "source": [
    "%matplotlib inline\n",
    "import numpy as np\n",
    "import pandas as pd"
   ]
  },
  {
   "cell_type": "code",
   "execution_count": 2,
   "metadata": {
    "collapsed": false
   },
   "outputs": [],
   "source": [
    "user_data = pd.read_csv(\"north_america_sample.gz\", compression='gzip', \n",
    "                        names=('mad_id', 'country', 'lat', 'lng', 'timestamp', 'source'))"
   ]
  },
  {
   "cell_type": "code",
   "execution_count": 3,
   "metadata": {
    "collapsed": false
   },
   "outputs": [],
   "source": [
    "# user_data.groupby('country').agg({'mad_id': pd.Series.nunique})\n",
    "# CA 0b4d2eb1-7f0c-40f8-bccf-90cbee8d5acd\n",
    "# user_data.groupby('country')['mad_id'].apply(lambda x: x.value_counts().index[0])\n",
    "# user_data.groupby(['country', 'hour'])['mad_id'].count()\n",
    "# user_data.groupby(['country'])['hour'].apply(lambda x: x.value_counts().index[0])\n",
    "# \"Thu Mar 24 14:08:08 BRT 2016\"\n",
    "user_data['timestamp'] = pd.to_datetime(user_data['timestamp'], format='%a %b %d %H:%M:%S %Z %Y')"
   ]
  },
  {
   "cell_type": "code",
   "execution_count": 4,
   "metadata": {
    "collapsed": true
   },
   "outputs": [],
   "source": [
    "user_data['hour'] = [ts.hour for ts in user_data.timestamp]"
   ]
  },
  {
   "cell_type": "code",
   "execution_count": 5,
   "metadata": {
    "collapsed": true
   },
   "outputs": [],
   "source": [
    "def distinct_users_per_country_job(data_frame):\n",
    "    return data_frame.groupby('country').agg({'mad_id': pd.Series.nunique})\n",
    "\n",
    "def peak_hour_of_day_job(data_frame):\n",
    "    return data_frame.groupby(['country'])['hour'].apply(lambda x: x.value_counts().index[0])\n",
    "    \n",
    "def most_active_user_per_country_job(data_frame):\n",
    "    return data_frame.groupby('country')['mad_id'].apply(lambda x: x.value_counts().index[0])\n",
    "    \n",
    "def average_hourly_requests_count_per_country_job(data_frame):\n",
    "    return data_frame.groupby(['country', 'hour'])['mad_id'].count()"
   ]
  },
  {
   "cell_type": "code",
   "execution_count": 6,
   "metadata": {
    "collapsed": false
   },
   "outputs": [
    {
     "data": {
      "text/html": [
       "<div>\n",
       "<table border=\"1\" class=\"dataframe\">\n",
       "  <thead>\n",
       "    <tr style=\"text-align: right;\">\n",
       "      <th></th>\n",
       "      <th>mad_id</th>\n",
       "    </tr>\n",
       "    <tr>\n",
       "      <th>country</th>\n",
       "      <th></th>\n",
       "    </tr>\n",
       "  </thead>\n",
       "  <tbody>\n",
       "    <tr>\n",
       "      <th>CA</th>\n",
       "      <td>17471</td>\n",
       "    </tr>\n",
       "    <tr>\n",
       "      <th>MX</th>\n",
       "      <td>807848</td>\n",
       "    </tr>\n",
       "    <tr>\n",
       "      <th>US</th>\n",
       "      <td>930476</td>\n",
       "    </tr>\n",
       "  </tbody>\n",
       "</table>\n",
       "</div>"
      ],
      "text/plain": [
       "         mad_id\n",
       "country        \n",
       "CA        17471\n",
       "MX       807848\n",
       "US       930476"
      ]
     },
     "execution_count": 6,
     "metadata": {},
     "output_type": "execute_result"
    }
   ],
   "source": [
    "distinct_users_per_country_job(user_data)"
   ]
  },
  {
   "cell_type": "code",
   "execution_count": 7,
   "metadata": {
    "collapsed": false
   },
   "outputs": [
    {
     "data": {
      "text/plain": [
       "country\n",
       "CA    21\n",
       "MX     0\n",
       "US    22\n",
       "Name: hour, dtype: int64"
      ]
     },
     "execution_count": 7,
     "metadata": {},
     "output_type": "execute_result"
    }
   ],
   "source": [
    "peak_hour_of_day_job(user_data)"
   ]
  },
  {
   "cell_type": "code",
   "execution_count": 8,
   "metadata": {
    "collapsed": false
   },
   "outputs": [
    {
     "data": {
      "text/plain": [
       "country\n",
       "CA    0b4d2eb1-7f0c-40f8-bccf-90cbee8d5acd\n",
       "MX    02e00826-fe83-4bac-9f14-8d59facb33b6\n",
       "US    31f96fbe-9f1c-40d9-97a4-a211837e267e\n",
       "Name: mad_id, dtype: object"
      ]
     },
     "execution_count": 8,
     "metadata": {},
     "output_type": "execute_result"
    }
   ],
   "source": [
    "most_active_user_per_country_job(user_data)"
   ]
  },
  {
   "cell_type": "code",
   "execution_count": 9,
   "metadata": {
    "collapsed": false
   },
   "outputs": [
    {
     "data": {
      "text/plain": [
       "country  hour\n",
       "CA       0        10169\n",
       "         1         7421\n",
       "         2         5053\n",
       "         3         3119\n",
       "         4         2085\n",
       "         5         1473\n",
       "         6         1773\n",
       "         7         2709\n",
       "         8         4367\n",
       "         9         6166\n",
       "         10        7205\n",
       "         11        7866\n",
       "         12        8089\n",
       "         13        8657\n",
       "         14        8811\n",
       "         15        9365\n",
       "         16        9267\n",
       "         17        8749\n",
       "         18        8685\n",
       "         19        9474\n",
       "         20       11037\n",
       "         21       13110\n",
       "         22       13099\n",
       "         23       12198\n",
       "MX       0       695527\n",
       "         1       653877\n",
       "         2       475533\n",
       "         3       288784\n",
       "         4       156745\n",
       "         5        90042\n",
       "                  ...  \n",
       "         18      422617\n",
       "         19      429945\n",
       "         20      503643\n",
       "         21      589382\n",
       "         22      644817\n",
       "         23      691327\n",
       "US       0       547853\n",
       "         1       439369\n",
       "         2       334574\n",
       "         3       244449\n",
       "         4       178641\n",
       "         5       142398\n",
       "         6       138321\n",
       "         7       173619\n",
       "         8       237221\n",
       "         9       320339\n",
       "         10      399571\n",
       "         11      460873\n",
       "         12      506209\n",
       "         13      538347\n",
       "         14      557142\n",
       "         15      559513\n",
       "         16      569192\n",
       "         17      511393\n",
       "         18      488837\n",
       "         19      502658\n",
       "         20      578766\n",
       "         21      667312\n",
       "         22      674230\n",
       "         23      634278\n",
       "Name: mad_id, dtype: int64"
      ]
     },
     "execution_count": 9,
     "metadata": {},
     "output_type": "execute_result"
    }
   ],
   "source": [
    "average_hourly_requests_count_per_country_job(user_data)"
   ]
  },
  {
   "cell_type": "code",
   "execution_count": null,
   "metadata": {
    "collapsed": true
   },
   "outputs": [],
   "source": []
  }
 ],
 "metadata": {
  "kernelspec": {
   "display_name": "Python 2",
   "language": "python",
   "name": "python2"
  },
  "language_info": {
   "codemirror_mode": {
    "name": "ipython",
    "version": 2
   },
   "file_extension": ".py",
   "mimetype": "text/x-python",
   "name": "python",
   "nbconvert_exporter": "python",
   "pygments_lexer": "ipython2",
   "version": "2.7.9"
  }
 },
 "nbformat": 4,
 "nbformat_minor": 0
}
